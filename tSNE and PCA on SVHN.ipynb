{
 "cells": [
  {
   "cell_type": "markdown",
   "metadata": {},
   "source": [
    "# 3. Learning++\n",
    "\n",
    "## 3.5 Applying tSNE on SVHN"
   ]
  },
  {
   "cell_type": "code",
   "execution_count": null,
   "metadata": {},
   "outputs": [],
   "source": [
    "import numpy as np\n",
    "import matplotlib.pyplot as plt\n",
    "import seaborn as sns\n",
    "from scipy.io import loadmat\n",
    "from skimage import color\n",
    "from skimage import io\n",
    "from sklearn.model_selection import train_test_split\n",
    "from sklearn.datasets import load_digits\n",
    "from scipy.spatial.distance import pdist\n",
    "from sklearn.manifold._t_sne import _joint_probabilities\n",
    "from scipy import linalg\n",
    "from sklearn.metrics import pairwise_distances\n",
    "from scipy.spatial.distance import squareform\n",
    "from sklearn.preprocessing import StandardScaler\n",
    "from sklearn.manifold import TSNE\n",
    "from sklearn.decomposition import PCA\n",
    "from matplotlib import pyplot as plt\n",
    "import seaborn as sns\n",
    "import pandas as pd"
   ]
  },
  {
   "cell_type": "code",
   "execution_count": null,
   "metadata": {},
   "outputs": [],
   "source": [
    "def load_data(path):\n",
    "    \"\"\" Helper function for loading a MAT-File\"\"\"\n",
    "    data = loadmat(path)\n",
    "    return data['X'], data['y']\n",
    "\n",
    "X_train, y_train = load_data('SVHN/train_32x32.mat')\n",
    "X_test, y_test = load_data('SVHN/test_32x32.mat')\n",
    "\n",
    "# Transpose the image arrays\n",
    "X_train, y_train = X_train.transpose((3,0,1,2)), y_train[:,0]\n",
    "X_test, y_test = X_test.transpose((3,0,1,2)), y_test[:,0]\n",
    "\n",
    "# Calculate the total number of images\n",
    "num_images = X_train.shape[0] + X_test.shape[0]\n",
    "\n",
    "# Correct Labels\n",
    "y_train[y_train == 10] = 0\n",
    "y_test[y_test == 10] = 0"
   ]
  },
  {
   "cell_type": "code",
   "execution_count": null,
   "metadata": {},
   "outputs": [],
   "source": [
    "# Convert to grayscale\n",
    "def to_grayscale (images):\n",
    "    return np.expand_dims(np.dot(images, [0.2990, 0.5870, 0.1140]), axis=3)\n",
    "\n",
    "\n",
    "train_gray = to_grayscale(X_train).astype(np.float32)\n",
    "test_gray = to_grayscale(X_test).astype(np.float32)\n",
    "\n",
    "n1, n2, n3, _ = train_gray.shape\n",
    "\n",
    "train_gray = np.reshape (train_gray,(n1, n2 * n3))\n",
    "\n",
    "sns.set (rc = {'figure.figsize':(11.7,8.27)})\n",
    "palette = sns.color_palette(\"bright\", 10)"
   ]
  },
  {
   "cell_type": "code",
   "execution_count": null,
   "metadata": {},
   "outputs": [],
   "source": [
    "tsne = TSNE()\n",
    "X_embedded = tsne.fit_transform(train_gray)\n",
    "\n",
    "sns.scatterplot(X_embedded[:,0], X_embedded[:,1], hue = y_train, legend = 'full', palette = palette)"
   ]
  },
  {
   "cell_type": "code",
   "execution_count": null,
   "metadata": {},
   "outputs": [],
   "source": [
    "tsne2 = TSNE (n_iter=10000,learning_rate=150)\n",
    "X_embedded_take2 = tsne2.fit_transform(train_gray)\n",
    "\n",
    "sns.scatterplot (X_embedded_take2[:,0], X_embedded_take2[:,1], hue=y_train, legend='full', palette=palette)"
   ]
  },
  {
   "cell_type": "code",
   "execution_count": null,
   "metadata": {},
   "outputs": [],
   "source": [
    "tsne3 = TSNE(perplexity=50)\n",
    "X_embedded_take2 = tsne3.fit_transform(train_gray)\n",
    "\n",
    "sns.scatterplot(X_embedded_take2[:,0], X_embedded_take2[:,1], hue=y_train, legend='full', palette=palette)"
   ]
  },
  {
   "cell_type": "markdown",
   "metadata": {},
   "source": [
    "## 3.5 PCA on SVHN"
   ]
  },
  {
   "cell_type": "code",
   "execution_count": null,
   "metadata": {},
   "outputs": [],
   "source": [
    "sc = StandardScaler()\n",
    "X_train_i = sc.fit_transform(train_gray)\n",
    "\n",
    "pca = PCA (n_components=2)\n",
    "X_train = pca.fit_transform (X_train_i)\n",
    "\n",
    "principalDf = pd.DataFrame (data = X_train, \n",
    "                           columns = ['principal component 1', 'principal component 2'])\n",
    "y = pd.DataFrame (data=y_train, columns=['target'])\n",
    "\n",
    "finalDf = pd.concat ([principalDf,y],axis=1)\n",
    "finalDf"
   ]
  },
  {
   "cell_type": "code",
   "execution_count": null,
   "metadata": {},
   "outputs": [],
   "source": [
    "fig = plt.figure(figsize = (8,8))\n",
    "ax = fig.add_subplot(1,1,1) \n",
    "ax.set_xlabel('Principal Component 1', fontsize = 15)\n",
    "ax.set_ylabel('Principal Component 2', fontsize = 15)\n",
    "ax.set_title('2 component PCA', fontsize = 20)\n",
    "targets = [0,1, 2, 3,4,5,6,7,8,9]\n",
    "colors = ['C0','C1','C2','C3','C4','C5','C6','C7','C8','C9']\n",
    "for target, color in zip(targets,colors):\n",
    "    indicesToKeep = finalDf['target'] == target\n",
    "    plt.scatter(finalDf.loc[indicesToKeep, 'principal component 1']\n",
    "               , finalDf.loc[indicesToKeep, 'principal component 2']\n",
    "               , c = color\n",
    "               , s = 50)\n",
    "ax.legend(targets)\n",
    "ax.grid()"
   ]
  }
 ],
 "metadata": {
  "kernelspec": {
   "display_name": "Python 3",
   "language": "python",
   "name": "python3"
  },
  "language_info": {
   "codemirror_mode": {
    "name": "ipython",
    "version": 3
   },
   "file_extension": ".py",
   "mimetype": "text/x-python",
   "name": "python",
   "nbconvert_exporter": "python",
   "pygments_lexer": "ipython3",
   "version": "3.8.5"
  }
 },
 "nbformat": 4,
 "nbformat_minor": 4
}
