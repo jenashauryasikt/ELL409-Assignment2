{
  "nbformat": 4,
  "nbformat_minor": 0,
  "metadata": {
    "colab": {
      "name": "3,2-KMeans++.ipynb",
      "provenance": []
    },
    "kernelspec": {
      "name": "python3",
      "display_name": "Python 3"
    },
    "accelerator": "GPU",
    "widgets": {
      "application/vnd.jupyter.widget-state+json": {
        "e127706543e74c6a8d0ef989a22038cf": {
          "model_module": "@jupyter-widgets/controls",
          "model_name": "HBoxModel",
          "state": {
            "_view_name": "HBoxView",
            "_dom_classes": [],
            "_model_name": "HBoxModel",
            "_view_module": "@jupyter-widgets/controls",
            "_model_module_version": "1.5.0",
            "_view_count": null,
            "_view_module_version": "1.5.0",
            "box_style": "",
            "layout": "IPY_MODEL_5391b1c98cca489aa2db317f85971dbd",
            "_model_module": "@jupyter-widgets/controls",
            "children": [
              "IPY_MODEL_2dd5c47da1544a6a8f5b287dcecacafb",
              "IPY_MODEL_5ba3133e901a49ffa5c1c9a304194eef"
            ]
          }
        },
        "5391b1c98cca489aa2db317f85971dbd": {
          "model_module": "@jupyter-widgets/base",
          "model_name": "LayoutModel",
          "state": {
            "_view_name": "LayoutView",
            "grid_template_rows": null,
            "right": null,
            "justify_content": null,
            "_view_module": "@jupyter-widgets/base",
            "overflow": null,
            "_model_module_version": "1.2.0",
            "_view_count": null,
            "flex_flow": null,
            "width": null,
            "min_width": null,
            "border": null,
            "align_items": null,
            "bottom": null,
            "_model_module": "@jupyter-widgets/base",
            "top": null,
            "grid_column": null,
            "overflow_y": null,
            "overflow_x": null,
            "grid_auto_flow": null,
            "grid_area": null,
            "grid_template_columns": null,
            "flex": null,
            "_model_name": "LayoutModel",
            "justify_items": null,
            "grid_row": null,
            "max_height": null,
            "align_content": null,
            "visibility": null,
            "align_self": null,
            "height": null,
            "min_height": null,
            "padding": null,
            "grid_auto_rows": null,
            "grid_gap": null,
            "max_width": null,
            "order": null,
            "_view_module_version": "1.2.0",
            "grid_template_areas": null,
            "object_position": null,
            "object_fit": null,
            "grid_auto_columns": null,
            "margin": null,
            "display": null,
            "left": null
          }
        },
        "2dd5c47da1544a6a8f5b287dcecacafb": {
          "model_module": "@jupyter-widgets/controls",
          "model_name": "FloatProgressModel",
          "state": {
            "_view_name": "ProgressView",
            "style": "IPY_MODEL_bbef2f0bb1324353aeb2330a4aa50d34",
            "_dom_classes": [],
            "description": "",
            "_model_name": "FloatProgressModel",
            "bar_style": "info",
            "max": 1,
            "_view_module": "@jupyter-widgets/controls",
            "_model_module_version": "1.5.0",
            "value": 1,
            "_view_count": null,
            "_view_module_version": "1.5.0",
            "orientation": "horizontal",
            "min": 0,
            "description_tooltip": null,
            "_model_module": "@jupyter-widgets/controls",
            "layout": "IPY_MODEL_535fd7e6ac4b41c8aa998f1f71580a73"
          }
        },
        "5ba3133e901a49ffa5c1c9a304194eef": {
          "model_module": "@jupyter-widgets/controls",
          "model_name": "HTMLModel",
          "state": {
            "_view_name": "HTMLView",
            "style": "IPY_MODEL_6789fca4583d480d9dca661d657e7ab8",
            "_dom_classes": [],
            "description": "",
            "_model_name": "HTMLModel",
            "placeholder": "​",
            "_view_module": "@jupyter-widgets/controls",
            "_model_module_version": "1.5.0",
            "value": " 182042624/? [00:20&lt;00:00, 11366540.44it/s]",
            "_view_count": null,
            "_view_module_version": "1.5.0",
            "description_tooltip": null,
            "_model_module": "@jupyter-widgets/controls",
            "layout": "IPY_MODEL_dab2b434295c4cb2801feccc652c295b"
          }
        },
        "bbef2f0bb1324353aeb2330a4aa50d34": {
          "model_module": "@jupyter-widgets/controls",
          "model_name": "ProgressStyleModel",
          "state": {
            "_view_name": "StyleView",
            "_model_name": "ProgressStyleModel",
            "description_width": "initial",
            "_view_module": "@jupyter-widgets/base",
            "_model_module_version": "1.5.0",
            "_view_count": null,
            "_view_module_version": "1.2.0",
            "bar_color": null,
            "_model_module": "@jupyter-widgets/controls"
          }
        },
        "535fd7e6ac4b41c8aa998f1f71580a73": {
          "model_module": "@jupyter-widgets/base",
          "model_name": "LayoutModel",
          "state": {
            "_view_name": "LayoutView",
            "grid_template_rows": null,
            "right": null,
            "justify_content": null,
            "_view_module": "@jupyter-widgets/base",
            "overflow": null,
            "_model_module_version": "1.2.0",
            "_view_count": null,
            "flex_flow": null,
            "width": null,
            "min_width": null,
            "border": null,
            "align_items": null,
            "bottom": null,
            "_model_module": "@jupyter-widgets/base",
            "top": null,
            "grid_column": null,
            "overflow_y": null,
            "overflow_x": null,
            "grid_auto_flow": null,
            "grid_area": null,
            "grid_template_columns": null,
            "flex": null,
            "_model_name": "LayoutModel",
            "justify_items": null,
            "grid_row": null,
            "max_height": null,
            "align_content": null,
            "visibility": null,
            "align_self": null,
            "height": null,
            "min_height": null,
            "padding": null,
            "grid_auto_rows": null,
            "grid_gap": null,
            "max_width": null,
            "order": null,
            "_view_module_version": "1.2.0",
            "grid_template_areas": null,
            "object_position": null,
            "object_fit": null,
            "grid_auto_columns": null,
            "margin": null,
            "display": null,
            "left": null
          }
        },
        "6789fca4583d480d9dca661d657e7ab8": {
          "model_module": "@jupyter-widgets/controls",
          "model_name": "DescriptionStyleModel",
          "state": {
            "_view_name": "StyleView",
            "_model_name": "DescriptionStyleModel",
            "description_width": "",
            "_view_module": "@jupyter-widgets/base",
            "_model_module_version": "1.5.0",
            "_view_count": null,
            "_view_module_version": "1.2.0",
            "_model_module": "@jupyter-widgets/controls"
          }
        },
        "dab2b434295c4cb2801feccc652c295b": {
          "model_module": "@jupyter-widgets/base",
          "model_name": "LayoutModel",
          "state": {
            "_view_name": "LayoutView",
            "grid_template_rows": null,
            "right": null,
            "justify_content": null,
            "_view_module": "@jupyter-widgets/base",
            "overflow": null,
            "_model_module_version": "1.2.0",
            "_view_count": null,
            "flex_flow": null,
            "width": null,
            "min_width": null,
            "border": null,
            "align_items": null,
            "bottom": null,
            "_model_module": "@jupyter-widgets/base",
            "top": null,
            "grid_column": null,
            "overflow_y": null,
            "overflow_x": null,
            "grid_auto_flow": null,
            "grid_area": null,
            "grid_template_columns": null,
            "flex": null,
            "_model_name": "LayoutModel",
            "justify_items": null,
            "grid_row": null,
            "max_height": null,
            "align_content": null,
            "visibility": null,
            "align_self": null,
            "height": null,
            "min_height": null,
            "padding": null,
            "grid_auto_rows": null,
            "grid_gap": null,
            "max_width": null,
            "order": null,
            "_view_module_version": "1.2.0",
            "grid_template_areas": null,
            "object_position": null,
            "object_fit": null,
            "grid_auto_columns": null,
            "margin": null,
            "display": null,
            "left": null
          }
        },
        "3ed0826e39d14b74876c0251eb574eb4": {
          "model_module": "@jupyter-widgets/controls",
          "model_name": "HBoxModel",
          "state": {
            "_view_name": "HBoxView",
            "_dom_classes": [],
            "_model_name": "HBoxModel",
            "_view_module": "@jupyter-widgets/controls",
            "_model_module_version": "1.5.0",
            "_view_count": null,
            "_view_module_version": "1.5.0",
            "box_style": "",
            "layout": "IPY_MODEL_12f23a410eee482abe66373d2cab6594",
            "_model_module": "@jupyter-widgets/controls",
            "children": [
              "IPY_MODEL_689b7e68c5714d6fbfceb05692caaff8",
              "IPY_MODEL_7dfaf2b4f83947408750d88bb0af594c"
            ]
          }
        },
        "12f23a410eee482abe66373d2cab6594": {
          "model_module": "@jupyter-widgets/base",
          "model_name": "LayoutModel",
          "state": {
            "_view_name": "LayoutView",
            "grid_template_rows": null,
            "right": null,
            "justify_content": null,
            "_view_module": "@jupyter-widgets/base",
            "overflow": null,
            "_model_module_version": "1.2.0",
            "_view_count": null,
            "flex_flow": null,
            "width": null,
            "min_width": null,
            "border": null,
            "align_items": null,
            "bottom": null,
            "_model_module": "@jupyter-widgets/base",
            "top": null,
            "grid_column": null,
            "overflow_y": null,
            "overflow_x": null,
            "grid_auto_flow": null,
            "grid_area": null,
            "grid_template_columns": null,
            "flex": null,
            "_model_name": "LayoutModel",
            "justify_items": null,
            "grid_row": null,
            "max_height": null,
            "align_content": null,
            "visibility": null,
            "align_self": null,
            "height": null,
            "min_height": null,
            "padding": null,
            "grid_auto_rows": null,
            "grid_gap": null,
            "max_width": null,
            "order": null,
            "_view_module_version": "1.2.0",
            "grid_template_areas": null,
            "object_position": null,
            "object_fit": null,
            "grid_auto_columns": null,
            "margin": null,
            "display": null,
            "left": null
          }
        },
        "689b7e68c5714d6fbfceb05692caaff8": {
          "model_module": "@jupyter-widgets/controls",
          "model_name": "FloatProgressModel",
          "state": {
            "_view_name": "ProgressView",
            "style": "IPY_MODEL_cf643bc55b7746e98b5a1a8db40b5f22",
            "_dom_classes": [],
            "description": "",
            "_model_name": "FloatProgressModel",
            "bar_style": "info",
            "max": 1,
            "_view_module": "@jupyter-widgets/controls",
            "_model_module_version": "1.5.0",
            "value": 1,
            "_view_count": null,
            "_view_module_version": "1.5.0",
            "orientation": "horizontal",
            "min": 0,
            "description_tooltip": null,
            "_model_module": "@jupyter-widgets/controls",
            "layout": "IPY_MODEL_13083f98460241a1930e513bdece87fa"
          }
        },
        "7dfaf2b4f83947408750d88bb0af594c": {
          "model_module": "@jupyter-widgets/controls",
          "model_name": "HTMLModel",
          "state": {
            "_view_name": "HTMLView",
            "style": "IPY_MODEL_fcd49d5e66c54489b36efcda746a34ed",
            "_dom_classes": [],
            "description": "",
            "_model_name": "HTMLModel",
            "placeholder": "​",
            "_view_module": "@jupyter-widgets/controls",
            "_model_module_version": "1.5.0",
            "value": " 64282624/? [00:19&lt;00:00, 8574888.29it/s]",
            "_view_count": null,
            "_view_module_version": "1.5.0",
            "description_tooltip": null,
            "_model_module": "@jupyter-widgets/controls",
            "layout": "IPY_MODEL_15751a492f224cc4aa439057a4bab47d"
          }
        },
        "cf643bc55b7746e98b5a1a8db40b5f22": {
          "model_module": "@jupyter-widgets/controls",
          "model_name": "ProgressStyleModel",
          "state": {
            "_view_name": "StyleView",
            "_model_name": "ProgressStyleModel",
            "description_width": "initial",
            "_view_module": "@jupyter-widgets/base",
            "_model_module_version": "1.5.0",
            "_view_count": null,
            "_view_module_version": "1.2.0",
            "bar_color": null,
            "_model_module": "@jupyter-widgets/controls"
          }
        },
        "13083f98460241a1930e513bdece87fa": {
          "model_module": "@jupyter-widgets/base",
          "model_name": "LayoutModel",
          "state": {
            "_view_name": "LayoutView",
            "grid_template_rows": null,
            "right": null,
            "justify_content": null,
            "_view_module": "@jupyter-widgets/base",
            "overflow": null,
            "_model_module_version": "1.2.0",
            "_view_count": null,
            "flex_flow": null,
            "width": null,
            "min_width": null,
            "border": null,
            "align_items": null,
            "bottom": null,
            "_model_module": "@jupyter-widgets/base",
            "top": null,
            "grid_column": null,
            "overflow_y": null,
            "overflow_x": null,
            "grid_auto_flow": null,
            "grid_area": null,
            "grid_template_columns": null,
            "flex": null,
            "_model_name": "LayoutModel",
            "justify_items": null,
            "grid_row": null,
            "max_height": null,
            "align_content": null,
            "visibility": null,
            "align_self": null,
            "height": null,
            "min_height": null,
            "padding": null,
            "grid_auto_rows": null,
            "grid_gap": null,
            "max_width": null,
            "order": null,
            "_view_module_version": "1.2.0",
            "grid_template_areas": null,
            "object_position": null,
            "object_fit": null,
            "grid_auto_columns": null,
            "margin": null,
            "display": null,
            "left": null
          }
        },
        "fcd49d5e66c54489b36efcda746a34ed": {
          "model_module": "@jupyter-widgets/controls",
          "model_name": "DescriptionStyleModel",
          "state": {
            "_view_name": "StyleView",
            "_model_name": "DescriptionStyleModel",
            "description_width": "",
            "_view_module": "@jupyter-widgets/base",
            "_model_module_version": "1.5.0",
            "_view_count": null,
            "_view_module_version": "1.2.0",
            "_model_module": "@jupyter-widgets/controls"
          }
        },
        "15751a492f224cc4aa439057a4bab47d": {
          "model_module": "@jupyter-widgets/base",
          "model_name": "LayoutModel",
          "state": {
            "_view_name": "LayoutView",
            "grid_template_rows": null,
            "right": null,
            "justify_content": null,
            "_view_module": "@jupyter-widgets/base",
            "overflow": null,
            "_model_module_version": "1.2.0",
            "_view_count": null,
            "flex_flow": null,
            "width": null,
            "min_width": null,
            "border": null,
            "align_items": null,
            "bottom": null,
            "_model_module": "@jupyter-widgets/base",
            "top": null,
            "grid_column": null,
            "overflow_y": null,
            "overflow_x": null,
            "grid_auto_flow": null,
            "grid_area": null,
            "grid_template_columns": null,
            "flex": null,
            "_model_name": "LayoutModel",
            "justify_items": null,
            "grid_row": null,
            "max_height": null,
            "align_content": null,
            "visibility": null,
            "align_self": null,
            "height": null,
            "min_height": null,
            "padding": null,
            "grid_auto_rows": null,
            "grid_gap": null,
            "max_width": null,
            "order": null,
            "_view_module_version": "1.2.0",
            "grid_template_areas": null,
            "object_position": null,
            "object_fit": null,
            "grid_auto_columns": null,
            "margin": null,
            "display": null,
            "left": null
          }
        }
      }
    }
  },
  "cells": [
    {
      "cell_type": "code",
      "metadata": {
        "colab": {
          "base_uri": "https://localhost:8080/"
        },
        "id": "hQxWP3KU4Aac",
        "outputId": "76f9ae6c-6fa9-41ba-8a91-ddc9aa2a0c57"
      },
      "source": [
        "import numpy as np\r\n",
        "import os\r\n",
        "from datetime import datetime \r\n",
        "\r\n",
        "import torch\r\n",
        "import torch.nn as nn\r\n",
        "import torch.nn.functional as F\r\n",
        "from torch.utils.data import DataLoader, random_split\r\n",
        "\r\n",
        "from torchvision import datasets, transforms\r\n",
        "from scipy.io import loadmat\r\n",
        "\r\n",
        "import matplotlib.pyplot as plt\r\n",
        "\r\n",
        "# check device\r\n",
        "DEVICE = 'cuda' if torch.cuda.is_available() else 'cpu'\r\n",
        "\r\n",
        "print (DEVICE)"
      ],
      "execution_count": 1,
      "outputs": [
        {
          "output_type": "stream",
          "text": [
            "cuda\n"
          ],
          "name": "stdout"
        }
      ]
    },
    {
      "cell_type": "code",
      "metadata": {
        "id": "_NUEAKtk4GWj"
      },
      "source": [
        "# Global Variables\r\n",
        "BATCH_SIZE = 64\r\n",
        "LEARNING_RATE = 0.001\r\n",
        "N_EPOCHS = 60\r\n",
        "RANDOM_SEED = 32\r\n",
        "\r\n",
        "N_CLASSES = 200"
      ],
      "execution_count": 2,
      "outputs": []
    },
    {
      "cell_type": "code",
      "metadata": {
        "id": "WiUpby-O4YOs"
      },
      "source": [
        "def get_accuracy(model, data_loader, device):\r\n",
        "    '''\r\n",
        "    Function for computing the accuracy of the predictions over the entire data_loader\r\n",
        "    '''\r\n",
        "    \r\n",
        "    correct_pred = 0 \r\n",
        "    n = 0\r\n",
        "    \r\n",
        "    with torch.no_grad():\r\n",
        "        model.eval()\r\n",
        "        for X, y_true in data_loader:\r\n",
        "\r\n",
        "            X = X.to(device)\r\n",
        "            y_true = y_true.to(device)\r\n",
        "\r\n",
        "            _, y_prob = model(X)\r\n",
        "            _, predicted_labels = torch.max(y_prob, 1)\r\n",
        "\r\n",
        "            n += y_true.size(0)\r\n",
        "            correct_pred += (predicted_labels == y_true).sum()\r\n",
        "\r\n",
        "    return correct_pred.float() / n\r\n",
        "\r\n",
        "def plot_losses(train_losses, valid_losses):\r\n",
        "    '''\r\n",
        "    Function for plotting training and validation losses\r\n",
        "    '''\r\n",
        "    \r\n",
        "    # temporarily change the style of the plots to seaborn \r\n",
        "    plt.style.use('seaborn')\r\n",
        "\r\n",
        "    train_losses = np.array(train_losses) \r\n",
        "    valid_losses = np.array(valid_losses)\r\n",
        "\r\n",
        "    fig, ax = plt.subplots(figsize = (8, 4.5))\r\n",
        "\r\n",
        "    ax.plot(train_losses, color='green', label='Training loss') \r\n",
        "    ax.plot(valid_losses, color='orange', label='Testing loss')\r\n",
        "    ax.set(title=\"Loss across epochs\", \r\n",
        "            xlabel='Epoch',\r\n",
        "            ylabel='Loss') \r\n",
        "    ax.legend()\r\n",
        "    fig.show()\r\n",
        "    \r\n",
        "    # change the plot style to default\r\n",
        "    plt.style.use('ggplot')\r\n",
        "\r\n",
        "def train_optm (train_loader, model, criterion, optimizer, device):\r\n",
        "    '''\r\n",
        "    Function for the training step of the training loop\r\n",
        "    '''\r\n",
        "\r\n",
        "    model.train()\r\n",
        "    running_loss = 0\r\n",
        "    \r\n",
        "    for X, y_true in train_loader:\r\n",
        "\r\n",
        "        optimizer.zero_grad()\r\n",
        "        \r\n",
        "        X = X.to(device)\r\n",
        "        y_true = y_true.to(device)\r\n",
        "    \r\n",
        "        # Forward pass\r\n",
        "        y_hat, _ = model(X) \r\n",
        "        loss = criterion(y_hat, y_true) \r\n",
        "        running_loss += loss.item() * X.size(0)\r\n",
        "\r\n",
        "        # Backward pass\r\n",
        "        loss.backward()\r\n",
        "        optimizer.step()\r\n",
        "        \r\n",
        "    epoch_loss = running_loss / len(train_loader.dataset)\r\n",
        "    return model, optimizer, epoch_loss\r\n",
        "\r\n",
        "def validate(valid_loader, model, criterion, device):\r\n",
        "    '''\r\n",
        "    Function for the validation step of the training loop\r\n",
        "    '''\r\n",
        "   \r\n",
        "    model.eval()\r\n",
        "    running_loss = 0\r\n",
        "    \r\n",
        "    for X, y_true in valid_loader:\r\n",
        "    \r\n",
        "        X = X.to(device)\r\n",
        "        y_true = y_true.to(device)\r\n",
        "\r\n",
        "        # Forward pass and record loss\r\n",
        "        y_hat, _ = model(X) \r\n",
        "        loss = criterion(y_hat, y_true) \r\n",
        "        running_loss += loss.item() * X.size(0)\r\n",
        "\r\n",
        "    epoch_loss = running_loss / len(valid_loader.dataset)\r\n",
        "        \r\n",
        "    return model, epoch_loss\r\n",
        "\r\n",
        "def training_loop_optm (model, criterion, optimizer, train_loader, valid_loader, epochs, device, print_every=1):\r\n",
        "    '''\r\n",
        "    Function defining the entire training loop\r\n",
        "    '''\r\n",
        "    \r\n",
        "    # set objects for storing metrics\r\n",
        "    best_loss = 1e10\r\n",
        "    train_losses = []\r\n",
        "    valid_losses = []\r\n",
        " \r\n",
        "    # Train model\r\n",
        "    for epoch in range(0, epochs):\r\n",
        "\r\n",
        "        # training\r\n",
        "        model, optimizer, train_loss = train_optm (train_loader, model, criterion, optimizer, device)\r\n",
        "        train_losses.append(train_loss)\r\n",
        "\r\n",
        "        # validation\r\n",
        "        with torch.no_grad():\r\n",
        "            model, valid_loss = validate(valid_loader, model, criterion, device)\r\n",
        "            valid_losses.append(valid_loss)\r\n",
        "\r\n",
        "        if epoch % print_every == (print_every - 1):\r\n",
        "            \r\n",
        "            train_acc = get_accuracy(model, train_loader, device=device)\r\n",
        "            valid_acc = get_accuracy(model, valid_loader, device=device)\r\n",
        "                \r\n",
        "            print(f'{datetime.now().time().replace(microsecond=0)}     '\r\n",
        "                  f'Epoch: {epoch}\\t'\r\n",
        "                  f'Train loss: {train_loss:.3f}\\t'\r\n",
        "                  f'Test loss: {valid_loss:.3f}\\t'\r\n",
        "                  f'Train accuracy: {100 * train_acc:.3f}\\t'\r\n",
        "                  f'Test accuracy: {100 * valid_acc:.3f}')\r\n",
        "            \r\n",
        "    plot_losses(train_losses, valid_losses)\r\n",
        "    \r\n",
        "    return model, optimizer, (train_losses, valid_losses)\r\n"
      ],
      "execution_count": 3,
      "outputs": []
    },
    {
      "cell_type": "code",
      "metadata": {
        "colab": {
          "base_uri": "https://localhost:8080/",
          "height": 131,
          "referenced_widgets": [
            "e127706543e74c6a8d0ef989a22038cf",
            "5391b1c98cca489aa2db317f85971dbd",
            "2dd5c47da1544a6a8f5b287dcecacafb",
            "5ba3133e901a49ffa5c1c9a304194eef",
            "bbef2f0bb1324353aeb2330a4aa50d34",
            "535fd7e6ac4b41c8aa998f1f71580a73",
            "6789fca4583d480d9dca661d657e7ab8",
            "dab2b434295c4cb2801feccc652c295b",
            "3ed0826e39d14b74876c0251eb574eb4",
            "12f23a410eee482abe66373d2cab6594",
            "689b7e68c5714d6fbfceb05692caaff8",
            "7dfaf2b4f83947408750d88bb0af594c",
            "cf643bc55b7746e98b5a1a8db40b5f22",
            "13083f98460241a1930e513bdece87fa",
            "fcd49d5e66c54489b36efcda746a34ed",
            "15751a492f224cc4aa439057a4bab47d"
          ]
        },
        "id": "hF1V-eeA7a35",
        "outputId": "b248dcec-8dce-46d1-8534-fa7edd4d8f7c"
      },
      "source": [
        "# Path to train, test and val data\r\n",
        "here = os.path.dirname(os.path.realpath('__file__'))\r\n",
        "subdir = \"drive/MyDrive/SVHN\"\r\n",
        "test_dir = os.path.join(here, subdir, \"test\")\r\n",
        "train_dir = os.path.join(here, subdir, \"train\")\r\n",
        "val_dir = os.path.join(here, subdir, \"val\")\r\n",
        "\r\n",
        "# Transform images into 32 pixels x 32 pixels as reqd by LeNet-5\r\n",
        "mean = (0.44808328)\r\n",
        "stddev = (0.22610814)\r\n",
        "my_trans_svhn = transforms.Compose([transforms.Grayscale(num_output_channels=1),\r\n",
        "                                    transforms.Resize((32, 32)),\r\n",
        "                                    transforms.ToTensor(), \r\n",
        "                                    transforms.Normalize(mean, stddev)])\r\n",
        "\r\n",
        "# Make dataset objects\r\n",
        "train_data_svhn = datasets.SVHN (train_dir, split = 'train', transform = my_trans_svhn, download = True)\r\n",
        "test_data_svhn = datasets.SVHN (test_dir, split = 'test', transform = my_trans_svhn, download = True)\r\n",
        "train_load_svhn = DataLoader (dataset=train_data_svhn, batch_size=BATCH_SIZE, shuffle=True)\r\n",
        "test_load_svhn = DataLoader (dataset=test_data_svhn, batch_size=BATCH_SIZE, shuffle=True)\r\n",
        "\r\n",
        "print (len(train_data_svhn[0][0]))"
      ],
      "execution_count": 9,
      "outputs": [
        {
          "output_type": "stream",
          "text": [
            "Downloading http://ufldl.stanford.edu/housenumbers/train_32x32.mat to /content/drive/MyDrive/SVHN/train/train_32x32.mat\n"
          ],
          "name": "stdout"
        },
        {
          "output_type": "display_data",
          "data": {
            "application/vnd.jupyter.widget-view+json": {
              "model_id": "e127706543e74c6a8d0ef989a22038cf",
              "version_minor": 0,
              "version_major": 2
            },
            "text/plain": [
              "HBox(children=(FloatProgress(value=1.0, bar_style='info', max=1.0), HTML(value='')))"
            ]
          },
          "metadata": {
            "tags": []
          }
        },
        {
          "output_type": "stream",
          "text": [
            "Downloading http://ufldl.stanford.edu/housenumbers/test_32x32.mat to /content/drive/MyDrive/SVHN/test/test_32x32.mat\n"
          ],
          "name": "stdout"
        },
        {
          "output_type": "display_data",
          "data": {
            "application/vnd.jupyter.widget-view+json": {
              "model_id": "3ed0826e39d14b74876c0251eb574eb4",
              "version_minor": 0,
              "version_major": 2
            },
            "text/plain": [
              "HBox(children=(FloatProgress(value=1.0, bar_style='info', max=1.0), HTML(value='')))"
            ]
          },
          "metadata": {
            "tags": []
          }
        },
        {
          "output_type": "stream",
          "text": [
            "1\n"
          ],
          "name": "stdout"
        }
      ]
    },
    {
      "cell_type": "code",
      "metadata": {
        "id": "_K4Js13E7wyB"
      },
      "source": [
        "class LeNet5(nn.Module):\r\n",
        "\r\n",
        "    def __init__(self, n_classes):\r\n",
        "        super(LeNet5, self).__init__()\r\n",
        "        \r\n",
        "        self.feature_extractor = nn.Sequential(            \r\n",
        "            nn.Conv2d(in_channels=1, out_channels=6, kernel_size=5, stride=1),\r\n",
        "            nn.Tanh(),\r\n",
        "            nn.AvgPool2d(kernel_size=2),\r\n",
        "            nn.Conv2d(in_channels=6, out_channels=16, kernel_size=5, stride=1),\r\n",
        "            nn.Tanh(),\r\n",
        "            nn.AvgPool2d(kernel_size=2),\r\n",
        "            nn.Conv2d(in_channels=16, out_channels=120, kernel_size=5, stride=1),\r\n",
        "            nn.Tanh()\r\n",
        "        )\r\n",
        "\r\n",
        "        self.classifier = nn.Sequential(\r\n",
        "            nn.Linear(in_features=120, out_features=84),\r\n",
        "            nn.Tanh(),\r\n",
        "            nn.Linear(in_features=84, out_features=n_classes),\r\n",
        "        )\r\n",
        "\r\n",
        "    def forward(self, x):\r\n",
        "        x = self.feature_extractor(x)\r\n",
        "        x = torch.flatten(x, 1)\r\n",
        "        logits = self.classifier(x)\r\n",
        "        probs = F.softmax(logits, dim=1)\r\n",
        "        return logits, probs"
      ],
      "execution_count": 10,
      "outputs": []
    },
    {
      "cell_type": "code",
      "metadata": {
        "colab": {
          "base_uri": "https://localhost:8080/",
          "height": 423
        },
        "id": "WLS5W8uC8ASa",
        "outputId": "8b726ddb-8b53-4acd-ee3a-1ed4b58aca20"
      },
      "source": [
        "torch.manual_seed(RANDOM_SEED)\r\n",
        "\r\n",
        "model = LeNet5(N_CLASSES).to(DEVICE)\r\n",
        "optimizer = torch.optim.Adam(model.parameters(), lr=LEARNING_RATE)\r\n",
        "criterion = nn.CrossEntropyLoss()\r\n",
        "\r\n",
        "model, optimizer, _ = training_loop_optm (model, criterion, optimizer, train_load_svhn, test_load_svhn, N_EPOCHS, DEVICE, print_every = 10)"
      ],
      "execution_count": 12,
      "outputs": [
        {
          "output_type": "stream",
          "text": [
            "09:23:40     Epoch: 9\tTrain loss: 2.245\tTest loss: 2.229\tTrain accuracy: 18.921\tTest accuracy: 19.587\n",
            "09:28:11     Epoch: 19\tTrain loss: 2.244\tTest loss: 2.233\tTrain accuracy: 18.887\tTest accuracy: 19.445\n",
            "09:32:32     Epoch: 29\tTrain loss: 2.244\tTest loss: 2.233\tTrain accuracy: 18.921\tTest accuracy: 19.587\n",
            "09:36:49     Epoch: 39\tTrain loss: 2.244\tTest loss: 2.236\tTrain accuracy: 18.921\tTest accuracy: 19.587\n",
            "09:41:04     Epoch: 49\tTrain loss: 2.244\tTest loss: 2.231\tTrain accuracy: 18.921\tTest accuracy: 19.587\n",
            "09:45:24     Epoch: 59\tTrain loss: 2.244\tTest loss: 2.232\tTrain accuracy: 18.921\tTest accuracy: 19.587\n"
          ],
          "name": "stdout"
        },
        {
          "output_type": "display_data",
          "data": {
            "image/png": "[encoded data removed]",
            "text/plain": [
              "<Figure size 576x324 with 1 Axes>"
            ]
          },
          "metadata": {
            "tags": []
          }
        }
      ]
    }
  ]
}